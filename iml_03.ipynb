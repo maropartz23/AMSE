{
  "cells": [
    {
      "cell_type": "markdown",
      "metadata": {
        "id": "bGewNtaGHKv1"
      },
      "source": [
        "# Introduction to Machine Learning - Exercise 3\n",
        "* The aim of the exercise is to learn how to use distance metrics and k-NN classifier."
      ]
    },
    {
      "cell_type": "markdown",
      "metadata": {
        "tags": [],
        "id": "pwcjtUO3HKv6"
      },
      "source": [
        "## Import used packages"
      ]
    },
    {
      "cell_type": "code",
      "execution_count": 1,
      "metadata": {
        "id": "FVFwXLhL75FZ"
      },
      "outputs": [],
      "source": [
        "import pandas as pd # dataframes\n",
        "import numpy as np # matrices and linear algebra\n",
        "import matplotlib.pyplot as plt # plotting\n",
        "import seaborn as sns # another matplotlib interface - styled and easier to use\n",
        "from sklearn.neighbors import KNeighborsClassifier # k-nearest neighbors\n",
        "from sklearn.model_selection import train_test_split # split data into training and testing sets\n",
        "from sklearn.metrics import accuracy_score # accuracy\n",
        "from sklearn.preprocessing import StandardScaler # standardize features"
      ]
    },
    {
      "cell_type": "markdown",
      "metadata": {
        "id": "4CErzqPdHKv9"
      },
      "source": [
        "## Load the data into the Pandas DataFrame - in our case it is a csv file\n",
        "* https://raw.githubusercontent.com/lubsar/EFREI-Introduction-to-Machine-Learning/main/datasets/iris.csv\n",
        "\n",
        "![meme01](https://github.com/lubsar/EFREI-Introduction-to-Machine-Learning/blob/main/images/knn_iris.png?raw=true)\n"
      ]
    },
    {
      "cell_type": "code",
      "execution_count": 2,
      "metadata": {
        "id": "V-KeXoMHHKv9",
        "outputId": "d2a707c5-0a4c-4257-c299-7ca37cd54154",
        "colab": {
          "base_uri": "https://localhost:8080/",
          "height": 206
        }
      },
      "outputs": [
        {
          "output_type": "execute_result",
          "data": {
            "text/plain": [
              "   sepal_length  sepal_width  petal_length  petal_width species\n",
              "0           5.1          3.5           1.4          0.2  setosa\n",
              "1           4.9          3.0           1.4          0.2  setosa\n",
              "2           4.7          3.2           1.3          0.2  setosa\n",
              "3           4.6          3.1           1.5          0.2  setosa\n",
              "4           5.0          3.6           1.4          0.2  setosa"
            ],
            "text/html": [
              "\n",
              "  <div id=\"df-9f572091-9ecd-47d8-8a73-b8ae350960c3\" class=\"colab-df-container\">\n",
              "    <div>\n",
              "<style scoped>\n",
              "    .dataframe tbody tr th:only-of-type {\n",
              "        vertical-align: middle;\n",
              "    }\n",
              "\n",
              "    .dataframe tbody tr th {\n",
              "        vertical-align: top;\n",
              "    }\n",
              "\n",
              "    .dataframe thead th {\n",
              "        text-align: right;\n",
              "    }\n",
              "</style>\n",
              "<table border=\"1\" class=\"dataframe\">\n",
              "  <thead>\n",
              "    <tr style=\"text-align: right;\">\n",
              "      <th></th>\n",
              "      <th>sepal_length</th>\n",
              "      <th>sepal_width</th>\n",
              "      <th>petal_length</th>\n",
              "      <th>petal_width</th>\n",
              "      <th>species</th>\n",
              "    </tr>\n",
              "  </thead>\n",
              "  <tbody>\n",
              "    <tr>\n",
              "      <th>0</th>\n",
              "      <td>5.1</td>\n",
              "      <td>3.5</td>\n",
              "      <td>1.4</td>\n",
              "      <td>0.2</td>\n",
              "      <td>setosa</td>\n",
              "    </tr>\n",
              "    <tr>\n",
              "      <th>1</th>\n",
              "      <td>4.9</td>\n",
              "      <td>3.0</td>\n",
              "      <td>1.4</td>\n",
              "      <td>0.2</td>\n",
              "      <td>setosa</td>\n",
              "    </tr>\n",
              "    <tr>\n",
              "      <th>2</th>\n",
              "      <td>4.7</td>\n",
              "      <td>3.2</td>\n",
              "      <td>1.3</td>\n",
              "      <td>0.2</td>\n",
              "      <td>setosa</td>\n",
              "    </tr>\n",
              "    <tr>\n",
              "      <th>3</th>\n",
              "      <td>4.6</td>\n",
              "      <td>3.1</td>\n",
              "      <td>1.5</td>\n",
              "      <td>0.2</td>\n",
              "      <td>setosa</td>\n",
              "    </tr>\n",
              "    <tr>\n",
              "      <th>4</th>\n",
              "      <td>5.0</td>\n",
              "      <td>3.6</td>\n",
              "      <td>1.4</td>\n",
              "      <td>0.2</td>\n",
              "      <td>setosa</td>\n",
              "    </tr>\n",
              "  </tbody>\n",
              "</table>\n",
              "</div>\n",
              "    <div class=\"colab-df-buttons\">\n",
              "\n",
              "  <div class=\"colab-df-container\">\n",
              "    <button class=\"colab-df-convert\" onclick=\"convertToInteractive('df-9f572091-9ecd-47d8-8a73-b8ae350960c3')\"\n",
              "            title=\"Convert this dataframe to an interactive table.\"\n",
              "            style=\"display:none;\">\n",
              "\n",
              "  <svg xmlns=\"http://www.w3.org/2000/svg\" height=\"24px\" viewBox=\"0 -960 960 960\">\n",
              "    <path d=\"M120-120v-720h720v720H120Zm60-500h600v-160H180v160Zm220 220h160v-160H400v160Zm0 220h160v-160H400v160ZM180-400h160v-160H180v160Zm440 0h160v-160H620v160ZM180-180h160v-160H180v160Zm440 0h160v-160H620v160Z\"/>\n",
              "  </svg>\n",
              "    </button>\n",
              "\n",
              "  <style>\n",
              "    .colab-df-container {\n",
              "      display:flex;\n",
              "      gap: 12px;\n",
              "    }\n",
              "\n",
              "    .colab-df-convert {\n",
              "      background-color: #E8F0FE;\n",
              "      border: none;\n",
              "      border-radius: 50%;\n",
              "      cursor: pointer;\n",
              "      display: none;\n",
              "      fill: #1967D2;\n",
              "      height: 32px;\n",
              "      padding: 0 0 0 0;\n",
              "      width: 32px;\n",
              "    }\n",
              "\n",
              "    .colab-df-convert:hover {\n",
              "      background-color: #E2EBFA;\n",
              "      box-shadow: 0px 1px 2px rgba(60, 64, 67, 0.3), 0px 1px 3px 1px rgba(60, 64, 67, 0.15);\n",
              "      fill: #174EA6;\n",
              "    }\n",
              "\n",
              "    .colab-df-buttons div {\n",
              "      margin-bottom: 4px;\n",
              "    }\n",
              "\n",
              "    [theme=dark] .colab-df-convert {\n",
              "      background-color: #3B4455;\n",
              "      fill: #D2E3FC;\n",
              "    }\n",
              "\n",
              "    [theme=dark] .colab-df-convert:hover {\n",
              "      background-color: #434B5C;\n",
              "      box-shadow: 0px 1px 3px 1px rgba(0, 0, 0, 0.15);\n",
              "      filter: drop-shadow(0px 1px 2px rgba(0, 0, 0, 0.3));\n",
              "      fill: #FFFFFF;\n",
              "    }\n",
              "  </style>\n",
              "\n",
              "    <script>\n",
              "      const buttonEl =\n",
              "        document.querySelector('#df-9f572091-9ecd-47d8-8a73-b8ae350960c3 button.colab-df-convert');\n",
              "      buttonEl.style.display =\n",
              "        google.colab.kernel.accessAllowed ? 'block' : 'none';\n",
              "\n",
              "      async function convertToInteractive(key) {\n",
              "        const element = document.querySelector('#df-9f572091-9ecd-47d8-8a73-b8ae350960c3');\n",
              "        const dataTable =\n",
              "          await google.colab.kernel.invokeFunction('convertToInteractive',\n",
              "                                                    [key], {});\n",
              "        if (!dataTable) return;\n",
              "\n",
              "        const docLinkHtml = 'Like what you see? Visit the ' +\n",
              "          '<a target=\"_blank\" href=https://colab.research.google.com/notebooks/data_table.ipynb>data table notebook</a>'\n",
              "          + ' to learn more about interactive tables.';\n",
              "        element.innerHTML = '';\n",
              "        dataTable['output_type'] = 'display_data';\n",
              "        await google.colab.output.renderOutput(dataTable, element);\n",
              "        const docLink = document.createElement('div');\n",
              "        docLink.innerHTML = docLinkHtml;\n",
              "        element.appendChild(docLink);\n",
              "      }\n",
              "    </script>\n",
              "  </div>\n",
              "\n",
              "\n",
              "    <div id=\"df-6941b60c-6d53-42d6-8967-21c7735b1fe9\">\n",
              "      <button class=\"colab-df-quickchart\" onclick=\"quickchart('df-6941b60c-6d53-42d6-8967-21c7735b1fe9')\"\n",
              "                title=\"Suggest charts\"\n",
              "                style=\"display:none;\">\n",
              "\n",
              "<svg xmlns=\"http://www.w3.org/2000/svg\" height=\"24px\"viewBox=\"0 0 24 24\"\n",
              "     width=\"24px\">\n",
              "    <g>\n",
              "        <path d=\"M19 3H5c-1.1 0-2 .9-2 2v14c0 1.1.9 2 2 2h14c1.1 0 2-.9 2-2V5c0-1.1-.9-2-2-2zM9 17H7v-7h2v7zm4 0h-2V7h2v10zm4 0h-2v-4h2v4z\"/>\n",
              "    </g>\n",
              "</svg>\n",
              "      </button>\n",
              "\n",
              "<style>\n",
              "  .colab-df-quickchart {\n",
              "      --bg-color: #E8F0FE;\n",
              "      --fill-color: #1967D2;\n",
              "      --hover-bg-color: #E2EBFA;\n",
              "      --hover-fill-color: #174EA6;\n",
              "      --disabled-fill-color: #AAA;\n",
              "      --disabled-bg-color: #DDD;\n",
              "  }\n",
              "\n",
              "  [theme=dark] .colab-df-quickchart {\n",
              "      --bg-color: #3B4455;\n",
              "      --fill-color: #D2E3FC;\n",
              "      --hover-bg-color: #434B5C;\n",
              "      --hover-fill-color: #FFFFFF;\n",
              "      --disabled-bg-color: #3B4455;\n",
              "      --disabled-fill-color: #666;\n",
              "  }\n",
              "\n",
              "  .colab-df-quickchart {\n",
              "    background-color: var(--bg-color);\n",
              "    border: none;\n",
              "    border-radius: 50%;\n",
              "    cursor: pointer;\n",
              "    display: none;\n",
              "    fill: var(--fill-color);\n",
              "    height: 32px;\n",
              "    padding: 0;\n",
              "    width: 32px;\n",
              "  }\n",
              "\n",
              "  .colab-df-quickchart:hover {\n",
              "    background-color: var(--hover-bg-color);\n",
              "    box-shadow: 0 1px 2px rgba(60, 64, 67, 0.3), 0 1px 3px 1px rgba(60, 64, 67, 0.15);\n",
              "    fill: var(--button-hover-fill-color);\n",
              "  }\n",
              "\n",
              "  .colab-df-quickchart-complete:disabled,\n",
              "  .colab-df-quickchart-complete:disabled:hover {\n",
              "    background-color: var(--disabled-bg-color);\n",
              "    fill: var(--disabled-fill-color);\n",
              "    box-shadow: none;\n",
              "  }\n",
              "\n",
              "  .colab-df-spinner {\n",
              "    border: 2px solid var(--fill-color);\n",
              "    border-color: transparent;\n",
              "    border-bottom-color: var(--fill-color);\n",
              "    animation:\n",
              "      spin 1s steps(1) infinite;\n",
              "  }\n",
              "\n",
              "  @keyframes spin {\n",
              "    0% {\n",
              "      border-color: transparent;\n",
              "      border-bottom-color: var(--fill-color);\n",
              "      border-left-color: var(--fill-color);\n",
              "    }\n",
              "    20% {\n",
              "      border-color: transparent;\n",
              "      border-left-color: var(--fill-color);\n",
              "      border-top-color: var(--fill-color);\n",
              "    }\n",
              "    30% {\n",
              "      border-color: transparent;\n",
              "      border-left-color: var(--fill-color);\n",
              "      border-top-color: var(--fill-color);\n",
              "      border-right-color: var(--fill-color);\n",
              "    }\n",
              "    40% {\n",
              "      border-color: transparent;\n",
              "      border-right-color: var(--fill-color);\n",
              "      border-top-color: var(--fill-color);\n",
              "    }\n",
              "    60% {\n",
              "      border-color: transparent;\n",
              "      border-right-color: var(--fill-color);\n",
              "    }\n",
              "    80% {\n",
              "      border-color: transparent;\n",
              "      border-right-color: var(--fill-color);\n",
              "      border-bottom-color: var(--fill-color);\n",
              "    }\n",
              "    90% {\n",
              "      border-color: transparent;\n",
              "      border-bottom-color: var(--fill-color);\n",
              "    }\n",
              "  }\n",
              "</style>\n",
              "\n",
              "      <script>\n",
              "        async function quickchart(key) {\n",
              "          const quickchartButtonEl =\n",
              "            document.querySelector('#' + key + ' button');\n",
              "          quickchartButtonEl.disabled = true;  // To prevent multiple clicks.\n",
              "          quickchartButtonEl.classList.add('colab-df-spinner');\n",
              "          try {\n",
              "            const charts = await google.colab.kernel.invokeFunction(\n",
              "                'suggestCharts', [key], {});\n",
              "          } catch (error) {\n",
              "            console.error('Error during call to suggestCharts:', error);\n",
              "          }\n",
              "          quickchartButtonEl.classList.remove('colab-df-spinner');\n",
              "          quickchartButtonEl.classList.add('colab-df-quickchart-complete');\n",
              "        }\n",
              "        (() => {\n",
              "          let quickchartButtonEl =\n",
              "            document.querySelector('#df-6941b60c-6d53-42d6-8967-21c7735b1fe9 button');\n",
              "          quickchartButtonEl.style.display =\n",
              "            google.colab.kernel.accessAllowed ? 'block' : 'none';\n",
              "        })();\n",
              "      </script>\n",
              "    </div>\n",
              "\n",
              "    </div>\n",
              "  </div>\n"
            ],
            "application/vnd.google.colaboratory.intrinsic+json": {
              "type": "dataframe",
              "variable_name": "df",
              "summary": "{\n  \"name\": \"df\",\n  \"rows\": 150,\n  \"fields\": [\n    {\n      \"column\": \"sepal_length\",\n      \"properties\": {\n        \"dtype\": \"number\",\n        \"std\": 0.8280661279778629,\n        \"min\": 4.3,\n        \"max\": 7.9,\n        \"num_unique_values\": 35,\n        \"samples\": [\n          6.2,\n          4.5,\n          5.6\n        ],\n        \"semantic_type\": \"\",\n        \"description\": \"\"\n      }\n    },\n    {\n      \"column\": \"sepal_width\",\n      \"properties\": {\n        \"dtype\": \"number\",\n        \"std\": 0.4335943113621737,\n        \"min\": 2.0,\n        \"max\": 4.4,\n        \"num_unique_values\": 23,\n        \"samples\": [\n          2.3,\n          4.0,\n          3.5\n        ],\n        \"semantic_type\": \"\",\n        \"description\": \"\"\n      }\n    },\n    {\n      \"column\": \"petal_length\",\n      \"properties\": {\n        \"dtype\": \"number\",\n        \"std\": 1.7644204199522617,\n        \"min\": 1.0,\n        \"max\": 6.9,\n        \"num_unique_values\": 43,\n        \"samples\": [\n          6.7,\n          3.8,\n          3.7\n        ],\n        \"semantic_type\": \"\",\n        \"description\": \"\"\n      }\n    },\n    {\n      \"column\": \"petal_width\",\n      \"properties\": {\n        \"dtype\": \"number\",\n        \"std\": 0.7631607417008414,\n        \"min\": 0.1,\n        \"max\": 2.5,\n        \"num_unique_values\": 22,\n        \"samples\": [\n          0.2,\n          1.2,\n          1.3\n        ],\n        \"semantic_type\": \"\",\n        \"description\": \"\"\n      }\n    },\n    {\n      \"column\": \"species\",\n      \"properties\": {\n        \"dtype\": \"category\",\n        \"num_unique_values\": 3,\n        \"samples\": [\n          \"setosa\",\n          \"versicolor\",\n          \"virginica\"\n        ],\n        \"semantic_type\": \"\",\n        \"description\": \"\"\n      }\n    }\n  ]\n}"
            }
          },
          "metadata": {},
          "execution_count": 2
        }
      ],
      "source": [
        "df = pd.read_csv('https://raw.githubusercontent.com/lubsar/EFREI-Introduction-to-Machine-Learning/main/datasets/iris.csv', sep=',')\n",
        "df.head()"
      ]
    },
    {
      "cell_type": "markdown",
      "metadata": {
        "id": "p7iM4Y5_HKv-"
      },
      "source": [
        "# We will take a look at the data first\n",
        "* sepal_length, sepal_width, petal_length, petal_width are the features\n",
        "\n",
        "* **species** is the target variable"
      ]
    },
    {
      "cell_type": "code",
      "execution_count": null,
      "metadata": {
        "id": "cdQvMVOgHKv_"
      },
      "outputs": [],
      "source": []
    },
    {
      "cell_type": "markdown",
      "metadata": {
        "id": "tat1hTimHKv_"
      },
      "source": [
        "# 🔎 What features seems to be the most discriminative?"
      ]
    },
    {
      "cell_type": "markdown",
      "metadata": {
        "id": "sTkpBtjyHKwA"
      },
      "source": [
        "# 🚀 k-Nearest Neighbors classifier\n",
        "* How does it work?\n",
        "* What is a distance metric?\n",
        "  * Which one is default for k-NN?\n",
        "\n",
        "### Example: Calculating Euclidean Distance\n",
        "\n",
        "Given two vectors with 5 numbers:\n",
        "\n",
        "- **Vector A**: (2, 4, 6, 8, 10)\n",
        "- **Vector B**: (1, 3, 5, 7, 9)\n",
        "\n",
        "**🔎 What is the result?**\n",
        "\n",
        "### Example: Calculating Manhattan Distance\n",
        "\n",
        "Given two vectors with 5 numbers:\n",
        "\n",
        "- **Vector A**: (2, 4, 6, 8, 10)\n",
        "- **Vector B**: (1, 3, 5, 7, 9)\n",
        "\n",
        "**🔎 What is the result?**\n",
        "\n",
        "### Example: Finding the 3 Closest Vectors and Applying Majority Voting\n",
        "\n",
        "We are given one **selected vector** and a set of **5 different vectors**. Each vector belongs to one of two classes: **Class 0** or **Class 1**.\n",
        "\n",
        "We will calculate the Euclidean distance between the selected vector and each of the different vectors, find the 3 closest vectors, and then assign a class to the selected vector using majority voting.\n",
        "\n",
        "#### Selected Vector\n",
        "- **Vector S**: (2, 3, 4)  \n",
        "  - Class: **Unknown** (to be determined)\n",
        "\n",
        "#### Set of Different Vectors (with classes)\n",
        "- **Vector A**: (1, 2, 3), Class 0\n",
        "- **Vector B**: (3, 3, 3), Class 1\n",
        "- **Vector C**: (2, 5, 6), Class 1\n",
        "- **Vector D**: (0, 0, 0), Class 0\n",
        "- **Vector E**: (4, 4, 4), Class 1\n",
        "\n",
        "**🔎 What is the class?**\n",
        "\n",
        "![meme02](https://github.com/lubsar/EFREI-Introduction-to-Machine-Learning/blob/main/images/knn_meme_01.jpg?raw=true)"
      ]
    },
    {
      "cell_type": "code",
      "execution_count": null,
      "metadata": {
        "id": "kE6IHHMsHKwB"
      },
      "outputs": [],
      "source": []
    },
    {
      "cell_type": "markdown",
      "metadata": {
        "id": "y6dNPD1UHKwB"
      },
      "source": [
        "## 📌 Normalizing & Splitting the Data\n",
        "\n",
        "### **Splitting the Data**\n",
        "-  The data is divided into two subsets:\n",
        "  - **Training Data**: Used to train the machine learning model.\n",
        "    - The algorithm learns the relationship between features and the target.\n",
        "    - It finds patterns in the training data that will help in making predictions on unseen data.\n",
        "  -  **Test Data**: Unseen data used to evaluate the model’s performance.\n",
        "       - 📊 The model makes predictions on the test data.\n",
        "       - 🔁 These predictions are then compared to the actual target values for accuracy assessment.\n",
        "  \n",
        "### ⚖️ **Normalizing the Data**\n",
        "- Ensuring features are on a similar scale improves the performance of many machine learning algorithms.\n",
        "- 🎯 Important step for any distance-based algorithm (k-means, knn or even linear regression)"
      ]
    },
    {
      "cell_type": "markdown",
      "metadata": {
        "id": "WUSIj7CFHKwB"
      },
      "source": [
        "# Split the data into features and labels"
      ]
    },
    {
      "cell_type": "code",
      "execution_count": null,
      "metadata": {
        "id": "FVyiSSpJHKwB"
      },
      "outputs": [],
      "source": []
    },
    {
      "cell_type": "markdown",
      "metadata": {
        "id": "7XqQIOawHKwC"
      },
      "source": [
        "# ⚡ Split the data into train and test set"
      ]
    },
    {
      "cell_type": "code",
      "execution_count": null,
      "metadata": {
        "id": "qlK6WHGYHKwC"
      },
      "outputs": [],
      "source": []
    },
    {
      "cell_type": "markdown",
      "metadata": {
        "id": "ePM4n4xeHKwC"
      },
      "source": [
        "# ⚡ Standardize features"
      ]
    },
    {
      "cell_type": "code",
      "execution_count": null,
      "metadata": {
        "id": "bCSLCqk_HKwC"
      },
      "outputs": [],
      "source": []
    },
    {
      "cell_type": "markdown",
      "metadata": {
        "id": "j9s0UmqJHKwC"
      },
      "source": [
        "# 🚀 Fitting and Evaluating the Model\n",
        "* We are now ready to train the model.\n",
        "* For this, we’ll use a fixed value of 3 for k.\n",
        "  * 📒 We can try different values as well\n",
        "* We first create an instance of the kNN model, then fit this to our training data.\n",
        "  * **We pass both the features and the target variable, so the model can learn.**"
      ]
    },
    {
      "cell_type": "code",
      "execution_count": null,
      "metadata": {
        "id": "3qUiZYdyHKwC"
      },
      "outputs": [],
      "source": []
    },
    {
      "cell_type": "markdown",
      "metadata": {
        "id": "h9FtS0JVHKwD"
      },
      "source": [
        "# 📈 The last step is getting the predictions and calculating the accuracy of the model"
      ]
    },
    {
      "cell_type": "code",
      "execution_count": null,
      "metadata": {
        "id": "vzmYGWbhHKwD"
      },
      "outputs": [],
      "source": []
    },
    {
      "cell_type": "markdown",
      "metadata": {
        "id": "-bj9d95ZHKwD"
      },
      "source": [
        "## Accuracy score\n",
        "* 📌 Accuracy is the proportion of correctly classified instances\n",
        "* It is a good measure when the classes are balanced\n",
        "    * 🔎 What does balanced mean?\n",
        "* Range of accuracy_score is [0, 1]\n",
        "    * **1** is the **best** score\n",
        "    * **0** is the **worst** score\n",
        "\n",
        "### 🚀 What if `k=5`? What `accuracy_score` does it produce? Try it!\n",
        "* 🔎 Is the result better or worse? Why?"
      ]
    },
    {
      "cell_type": "code",
      "execution_count": null,
      "metadata": {
        "id": "jn4SlmbqHKwD"
      },
      "outputs": [],
      "source": []
    },
    {
      "cell_type": "markdown",
      "metadata": {
        "tags": [],
        "id": "6yo4vVC3HKwD"
      },
      "source": [
        "# ✅ Task\n",
        "- 📒 Code two python functions `my_euclidean_distance` and `my_manhattan_distance` which will calculate the distances for two given vectors\n",
        "- Code function `find_neighbour`\n",
        "  - 📌 It will let you select `my_euclidean_distance` or `my_manhattan_distance` for distance calculation\n",
        "  - 📌 It will find the closest vector from a set of vectors to the target vector and return it\n",
        "- 🚀 Test the functions on the vectors that we have used in examples on the blackboard"
      ]
    },
    {
      "cell_type": "code",
      "execution_count": null,
      "metadata": {
        "id": "xO9ZntOFHKwD"
      },
      "outputs": [],
      "source": [
        "def my_euclidean_distance(x: list, y:list) -> float:\n",
        "    pass\n",
        "\n",
        "def my_manhattan_distance(x: list, y:list) -> float:\n",
        "    pass\n",
        "\n",
        "# distance = 'euclidean_distance' or 'manhattan_distance'\n",
        "def find_neighbour(target_vector: list, vectors: list[list], distance: str = 'euclidean_distance') -> list:\n",
        "    pass"
      ]
    }
  ],
  "metadata": {
    "colab": {
      "name": "ZSU_cv1_introduction_jupyter_pandas_visualization.ipynb",
      "provenance": []
    },
    "kernelspec": {
      "display_name": ".venv",
      "language": "python",
      "name": "python3"
    },
    "language_info": {
      "codemirror_mode": {
        "name": "ipython",
        "version": 3
      },
      "file_extension": ".py",
      "mimetype": "text/x-python",
      "name": "python",
      "nbconvert_exporter": "python",
      "pygments_lexer": "ipython3",
      "version": "3.13.7"
    }
  },
  "nbformat": 4,
  "nbformat_minor": 0
}